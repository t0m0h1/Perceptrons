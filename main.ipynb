{
 "cells": [
  {
   "cell_type": "markdown",
   "metadata": {},
   "source": [
    "#### In this exercise we will perform operations with perceptrons"
   ]
  },
  {
   "cell_type": "code",
   "execution_count": 4,
   "metadata": {},
   "outputs": [
    {
     "name": "stdout",
     "output_type": "stream",
     "text": [
      "Weights:  [1. 1.]\n",
      "Bias:  0\n",
      "Prediction:  1\n",
      "Prediction:  1\n"
     ]
    }
   ],
   "source": [
    "# Perceptron using numpy only\n",
    "import numpy as np\n",
    "\n",
    "class Perceptron:\n",
    "    def __init__(self, input_size):\n",
    "        self.weights = np.zeros(input_size)\n",
    "        self.bias = 0\n",
    "    \n",
    "    def predict(self, inputs):\n",
    "        summation = np.dot(inputs, self.weights) + self.bias\n",
    "        return 1 if summation > 0 else 0\n",
    "    \n",
    "    def train(self, inputs, labels, epochs):\n",
    "        for _ in range(epochs):\n",
    "            for x, y in zip(inputs, labels):\n",
    "                prediction = self.predict(x)\n",
    "                self.weights += (y - prediction) * x\n",
    "                self.bias += (y - prediction)\n",
    "\n",
    "\n",
    "if __name__ == \"__main__\":\n",
    "    inputs = np.array([\n",
    "        [1, 0],\n",
    "        [0, 1],\n",
    "        [0, 0],\n",
    "        [1, 1]\n",
    "    ])\n",
    "    labels = np.array([1, 1, 0, 1])\n",
    "    perceptron = Perceptron(2)\n",
    "    perceptron.train(inputs, labels, 100)\n",
    "    print(\"Weights: \", perceptron.weights)\n",
    "    print(\"Bias: \", perceptron.bias)\n",
    "    print(\"Prediction: \", perceptron.predict(np.array([1, 0])))\n",
    "    print(\"Prediction: \", perceptron.predict(np.array([0, 1])))"
   ]
  },
  {
   "cell_type": "code",
   "execution_count": null,
   "metadata": {},
   "outputs": [],
   "source": []
  }
 ],
 "metadata": {
  "kernelspec": {
   "display_name": "Python 3",
   "language": "python",
   "name": "python3"
  },
  "language_info": {
   "codemirror_mode": {
    "name": "ipython",
    "version": 3
   },
   "file_extension": ".py",
   "mimetype": "text/x-python",
   "name": "python",
   "nbconvert_exporter": "python",
   "pygments_lexer": "ipython3",
   "version": "3.12.1"
  }
 },
 "nbformat": 4,
 "nbformat_minor": 2
}
